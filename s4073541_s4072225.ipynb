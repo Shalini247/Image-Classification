{
 "cells": [
  {
   "cell_type": "markdown",
   "metadata": {},
   "source": [
    "---\n",
    "# <div align=\"center\"><font color='green'> COSC 2673/2793 |  Machine Learning | Assignment 1 </font></div>\n",
    "## <div align=\"center\"> <font color='red'> Student Name:  Devmi Shalini Perera Attapattuge                            </font></div>\n",
    "## <div align=\"center\"> <font color='red'> Student number:  s4073541                         </font></div>\n",
    "## <div align=\"center\"> <font color='red'> Student Name:  Vishini Bodi Hendige                          </font></div>\n",
    "## <div align=\"center\"> <font color='red'> Student number:  s4072225                     </font></div>\n",
    "---"
   ]
  },
  {
   "cell_type": "markdown",
   "metadata": {},
   "source": [
    "# Problem statement\n",
    "\n",
    "your problme statement goes here\n",
    "\n"
   ]
  },
  {
   "cell_type": "markdown",
   "metadata": {},
   "source": [
    "## Data Splitting, and EDA\n",
    "\n",
    " explain why you split your Data\n",
    " wxplain your EDA and what each step represents\n",
    "\n"
   ]
  },
  {
   "cell_type": "code",
   "execution_count": null,
   "metadata": {},
   "outputs": [],
   "source": [
    "import pandas as pd\n",
    "import matplotlib.pyplot as plt\n",
    "import numpy as np\n",
    "\n",
    "## TODO\n",
    "## You need to run this code, so the output is displayed bellow\n"
   ]
  },
  {
   "cell_type": "markdown",
   "metadata": {},
   "source": [
    "### EDA result Analysis and deriven conclusion\n",
    "Explain what you have observed from the output of your EDA"
   ]
  },
  {
   "cell_type": "markdown",
   "metadata": {},
   "source": [
    "\n",
    "## Data Pre- Processing\n",
    "\n",
    "Explain the step taken and why, or if you decide not to perform ore-processing then why not?"
   ]
  },
  {
   "cell_type": "code",
   "execution_count": null,
   "metadata": {},
   "outputs": [],
   "source": [
    "## TODO\n",
    "## You need to run this code, so the output is displayed bellow"
   ]
  },
  {
   "cell_type": "markdown",
   "metadata": {},
   "source": [
    "## Baseline development (Linear regression and Poisson Regression) \n",
    "Explain all the above for each task in detail, don't forget to include justification\n",
    "\n",
    "Note: You need to also balance the model complexity with model performence, explain how and why\n",
    "\n",
    "### performance metrics selection\n",
    "Explain all the above for each task in detail, don't forget to include justification\n",
    "\n",
    "### Parameter tunning \n",
    "\n",
    "Explain all the above for each task in detail, don't forget to include justification\n",
    "\n",
    "Note: You need to also balance the model complexity with model performence, explain how and why"
   ]
  },
  {
   "cell_type": "code",
   "execution_count": null,
   "metadata": {},
   "outputs": [],
   "source": [
    "## TODO\n",
    "## You need to run this code, so the output is displayed bellow\n"
   ]
  },
  {
   "cell_type": "markdown",
   "metadata": {},
   "source": [
    "<span style=\"font-size:1.5em;\">�</span> What observations did you make?\n",
    "\n",
    "> <span style=\"font-size:1em;\">✔</span> **Observations:** \n"
   ]
  },
  {
   "cell_type": "markdown",
   "metadata": {},
   "source": [
    "## Polynomila regression and Generalized Linear Models (if applicable)\n",
    "\n",
    "### performance metrics selection\n",
    "Explain all the above for each task in detail, don't forget to include justification\n",
    "\n",
    "### Parameter tunning\n",
    "Explain all the above for each task in detail, don't forget to include justification\n",
    "\n",
    "Note: You need to also balance the model complexity with model performence, explain how and why"
   ]
  },
  {
   "cell_type": "code",
   "execution_count": null,
   "metadata": {},
   "outputs": [],
   "source": [
    "## TODO\n",
    "## You need to run this code, so the output is displayed bellow"
   ]
  },
  {
   "cell_type": "markdown",
   "metadata": {},
   "source": [
    "<span style=\"font-size:1.5em;\">�</span> What observations did you make?\n",
    "\n",
    "> <span style=\"font-size:1em;\">✔</span> **Observations:** "
   ]
  },
  {
   "cell_type": "markdown",
   "metadata": {},
   "source": [
    "## Single Linear or Polynomial regression with two outputs\n",
    "\n",
    "### performance metrics selection\n",
    "Explain all the above for each task in detail, don't forget to include justification\n",
    "\n",
    "### Parameter tunning\n",
    "\n",
    "Explain all the above for each task in detail, don't forget to include justification\n",
    "\n",
    "Note: You need to also balance the model complexity with model performence, explain how and why"
   ]
  },
  {
   "cell_type": "code",
   "execution_count": null,
   "metadata": {},
   "outputs": [],
   "source": []
  },
  {
   "cell_type": "markdown",
   "metadata": {},
   "source": [
    "<span style=\"font-size:1.5em;\">�</span> What observations did you make?\n",
    "\n",
    "> <span style=\"font-size:1em;\">✔</span> **Observations:** "
   ]
  },
  {
   "cell_type": "markdown",
   "metadata": {},
   "source": [
    "### You can add any other analysis you want with justification here (adding code and markdown)"
   ]
  },
  {
   "cell_type": "code",
   "execution_count": null,
   "metadata": {},
   "outputs": [],
   "source": []
  }
 ],
 "metadata": {
  "kernelspec": {
   "display_name": "Python [conda env:base] *",
   "language": "python",
   "name": "conda-base-py"
  },
  "language_info": {
   "codemirror_mode": {
    "name": "ipython",
    "version": 3
   },
   "file_extension": ".py",
   "mimetype": "text/x-python",
   "name": "python",
   "nbconvert_exporter": "python",
   "pygments_lexer": "ipython3",
   "version": "3.12.7"
  }
 },
 "nbformat": 4,
 "nbformat_minor": 4
}
